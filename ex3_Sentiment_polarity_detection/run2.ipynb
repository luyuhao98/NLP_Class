{
 "cells": [
  {
   "cell_type": "code",
   "execution_count": 1,
   "metadata": {
    "scrolled": true
   },
   "outputs": [
    {
     "name": "stdout",
     "output_type": "stream",
     "text": [
      "\n",
      "Parameters:\n",
      "ALLOW_SOFT_PLACEMENT=<absl.flags._flag.BooleanFlag object at 0x000001DCCDC88630>\n",
      "BATCH_SIZE=<absl.flags._flag.Flag object at 0x000001DCCC9A5518>\n",
      "CHECKPOINT_DIR=<absl.flags._flag.Flag object at 0x000001DCCDC88518>\n",
      "EVAL_TRAIN=<absl.flags._flag.BooleanFlag object at 0x000001DCCDC88588>\n",
      "LOG_DEVICE_PLACEMENT=<absl.flags._flag.BooleanFlag object at 0x000001DCCDC886A0>\n",
      "NEGATIVE_DATA_FILE=<absl.flags._flag.Flag object at 0x000001DCCD9E68D0>\n",
      "POSITIVE_DATA_FILE=<absl.flags._flag.Flag object at 0x000001DCC8676D30>\n",
      "\n",
      "WARNING:tensorflow:From C:\\Anaconda\\envs\\tensorflow\\lib\\site-packages\\tensorflow\\contrib\\learn\\python\\learn\\preprocessing\\text.py:203: tokenizer (from tensorflow.contrib.learn.python.learn.preprocessing.text) is deprecated and will be removed in a future version.\n",
      "Instructions for updating:\n",
      "Please use tensorflow/transform or tf.data.\n",
      "\n",
      "Evaluating...\n",
      "\n",
      "INFO:tensorflow:Restoring parameters from C:\\Users\\卢昱昊\\Desktop\\cnn-text-classification-tf-master\\runs\\1540540165\\checkpoints\\model-30000\n",
      "Total number of test examples: 10662\n",
      "Accuracy: 0.97205\n",
      "Saving evaluation to ./runs/1540540165/checkpoints/..\\prediction.csv\n"
     ]
    }
   ],
   "source": [
    "run eval.py --eval_train --checkpoint_dir=\"./runs/1540540165/checkpoints/\""
   ]
  },
  {
   "cell_type": "code",
   "execution_count": null,
   "metadata": {},
   "outputs": [],
   "source": []
  }
 ],
 "metadata": {
  "kernelspec": {
   "display_name": "Python 3",
   "language": "python",
   "name": "python3"
  },
  "language_info": {
   "codemirror_mode": {
    "name": "ipython",
    "version": 3
   },
   "file_extension": ".py",
   "mimetype": "text/x-python",
   "name": "python",
   "nbconvert_exporter": "python",
   "pygments_lexer": "ipython3",
   "version": "3.6.5"
  }
 },
 "nbformat": 4,
 "nbformat_minor": 2
}
